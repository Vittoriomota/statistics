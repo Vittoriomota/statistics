{
 "cells": [
  {
   "cell_type": "code",
   "execution_count": 1,
   "id": "6c33ea41-3809-4896-b48d-3aa5c68ed3b3",
   "metadata": {},
   "outputs": [],
   "source": [
    "import pandas as pd\n",
    "import matplotlib.pyplot as plt\n",
    "from scipy import stats\n",
    "import numpy as np\n",
    "import warnings"
   ]
  },
  {
   "cell_type": "code",
   "execution_count": 2,
   "id": "e8579653-23ba-448d-9c0a-90a06f3a444b",
   "metadata": {},
   "outputs": [
    {
     "name": "stdout",
     "output_type": "stream",
     "text": [
      "<class 'pandas.core.frame.DataFrame'>\n",
      "RangeIndex: 699 entries, 0 to 698\n",
      "Data columns (total 31 columns):\n",
      " #   Column                      Non-Null Count  Dtype  \n",
      "---  ------                      --------------  -----  \n",
      " 0   RowId                       699 non-null    object \n",
      " 1   YearStart                   699 non-null    int64  \n",
      " 2   YearEnd                     699 non-null    int64  \n",
      " 3   LocationAbbr                699 non-null    object \n",
      " 4   LocationDesc                699 non-null    object \n",
      " 5   Datasource                  699 non-null    object \n",
      " 6   Class                       699 non-null    object \n",
      " 7   Topic                       699 non-null    object \n",
      " 8   Question                    699 non-null    object \n",
      " 9   Data_Value_Unit             699 non-null    object \n",
      " 10  DataValueTypeID             699 non-null    object \n",
      " 11  Data_Value_Type             699 non-null    object \n",
      " 12  Data_Value                  699 non-null    float64\n",
      " 13  Data_Value_Alt              699 non-null    float64\n",
      " 14  Data_Value_Footnote_Symbol  699 non-null    object \n",
      " 15  Data_Value_Footnote         699 non-null    object \n",
      " 16  Low_Confidence_Limit        699 non-null    float64\n",
      " 17  High_Confidence_Limit       699 non-null    float64\n",
      " 18  StratificationCategory1     699 non-null    object \n",
      " 19  Stratification1             699 non-null    object \n",
      " 20  StratificationCategory2     699 non-null    object \n",
      " 21  Stratification2             699 non-null    object \n",
      " 22  Geolocation                 699 non-null    object \n",
      " 23  ClassID                     699 non-null    object \n",
      " 24  TopicID                     699 non-null    object \n",
      " 25  QuestionID                  699 non-null    object \n",
      " 26  LocationID                  699 non-null    int64  \n",
      " 27  StratificationCategoryID1   699 non-null    object \n",
      " 28  StratificationID1           699 non-null    object \n",
      " 29  StratificationCategoryID2   699 non-null    object \n",
      " 30  StratificationID2           699 non-null    object \n",
      "dtypes: float64(4), int64(3), object(24)\n",
      "memory usage: 169.4+ KB\n"
     ]
    }
   ],
   "source": [
    "#IMPORTING DATASET\n",
    "# Importing the dataset\n",
    "df_original = pd.read_csv('Alzheimer.csv')\n",
    "\n",
    "df = df_original.copy()\n",
    "df.head(3)\n",
    "df.info()"
   ]
  },
  {
   "cell_type": "code",
   "execution_count": 3,
   "id": "c0a432bc-602d-45d6-8c7d-5c23ba840966",
   "metadata": {},
   "outputs": [
    {
     "data": {
      "text/html": [
       "<div>\n",
       "<style scoped>\n",
       "    .dataframe tbody tr th:only-of-type {\n",
       "        vertical-align: middle;\n",
       "    }\n",
       "\n",
       "    .dataframe tbody tr th {\n",
       "        vertical-align: top;\n",
       "    }\n",
       "\n",
       "    .dataframe thead th {\n",
       "        text-align: right;\n",
       "    }\n",
       "</style>\n",
       "<table border=\"1\" class=\"dataframe\">\n",
       "  <thead>\n",
       "    <tr style=\"text-align: right;\">\n",
       "      <th></th>\n",
       "      <th>YearStart</th>\n",
       "      <th>YearEnd</th>\n",
       "      <th>Data_Value</th>\n",
       "      <th>Data_Value_Alt</th>\n",
       "      <th>Low_Confidence_Limit</th>\n",
       "      <th>High_Confidence_Limit</th>\n",
       "      <th>LocationID</th>\n",
       "    </tr>\n",
       "  </thead>\n",
       "  <tbody>\n",
       "    <tr>\n",
       "      <th>count</th>\n",
       "      <td>699.000000</td>\n",
       "      <td>699.000000</td>\n",
       "      <td>699.000000</td>\n",
       "      <td>699.000000</td>\n",
       "      <td>699.000000</td>\n",
       "      <td>699.000000</td>\n",
       "      <td>699.000000</td>\n",
       "    </tr>\n",
       "    <tr>\n",
       "      <th>mean</th>\n",
       "      <td>2020.819742</td>\n",
       "      <td>2020.819742</td>\n",
       "      <td>26.257225</td>\n",
       "      <td>26.257225</td>\n",
       "      <td>19.467811</td>\n",
       "      <td>34.579542</td>\n",
       "      <td>32.449213</td>\n",
       "    </tr>\n",
       "    <tr>\n",
       "      <th>std</th>\n",
       "      <td>0.920390</td>\n",
       "      <td>0.920390</td>\n",
       "      <td>4.686454</td>\n",
       "      <td>4.686454</td>\n",
       "      <td>4.402328</td>\n",
       "      <td>6.159550</td>\n",
       "      <td>16.144625</td>\n",
       "    </tr>\n",
       "    <tr>\n",
       "      <th>min</th>\n",
       "      <td>2019.000000</td>\n",
       "      <td>2019.000000</td>\n",
       "      <td>14.000000</td>\n",
       "      <td>14.000000</td>\n",
       "      <td>8.500000</td>\n",
       "      <td>20.900000</td>\n",
       "      <td>1.000000</td>\n",
       "    </tr>\n",
       "    <tr>\n",
       "      <th>25%</th>\n",
       "      <td>2021.000000</td>\n",
       "      <td>2021.000000</td>\n",
       "      <td>23.350000</td>\n",
       "      <td>23.350000</td>\n",
       "      <td>16.550000</td>\n",
       "      <td>30.500000</td>\n",
       "      <td>20.000000</td>\n",
       "    </tr>\n",
       "    <tr>\n",
       "      <th>50%</th>\n",
       "      <td>2021.000000</td>\n",
       "      <td>2021.000000</td>\n",
       "      <td>26.200000</td>\n",
       "      <td>26.200000</td>\n",
       "      <td>19.500000</td>\n",
       "      <td>33.700000</td>\n",
       "      <td>35.000000</td>\n",
       "    </tr>\n",
       "    <tr>\n",
       "      <th>75%</th>\n",
       "      <td>2021.000000</td>\n",
       "      <td>2021.000000</td>\n",
       "      <td>29.450000</td>\n",
       "      <td>29.450000</td>\n",
       "      <td>22.450000</td>\n",
       "      <td>38.700000</td>\n",
       "      <td>45.000000</td>\n",
       "    </tr>\n",
       "    <tr>\n",
       "      <th>max</th>\n",
       "      <td>2022.000000</td>\n",
       "      <td>2022.000000</td>\n",
       "      <td>38.400000</td>\n",
       "      <td>38.400000</td>\n",
       "      <td>31.400000</td>\n",
       "      <td>57.800000</td>\n",
       "      <td>72.000000</td>\n",
       "    </tr>\n",
       "  </tbody>\n",
       "</table>\n",
       "</div>"
      ],
      "text/plain": [
       "         YearStart      YearEnd  Data_Value  Data_Value_Alt  \\\n",
       "count   699.000000   699.000000  699.000000      699.000000   \n",
       "mean   2020.819742  2020.819742   26.257225       26.257225   \n",
       "std       0.920390     0.920390    4.686454        4.686454   \n",
       "min    2019.000000  2019.000000   14.000000       14.000000   \n",
       "25%    2021.000000  2021.000000   23.350000       23.350000   \n",
       "50%    2021.000000  2021.000000   26.200000       26.200000   \n",
       "75%    2021.000000  2021.000000   29.450000       29.450000   \n",
       "max    2022.000000  2022.000000   38.400000       38.400000   \n",
       "\n",
       "       Low_Confidence_Limit  High_Confidence_Limit  LocationID  \n",
       "count            699.000000             699.000000  699.000000  \n",
       "mean              19.467811              34.579542   32.449213  \n",
       "std                4.402328               6.159550   16.144625  \n",
       "min                8.500000              20.900000    1.000000  \n",
       "25%               16.550000              30.500000   20.000000  \n",
       "50%               19.500000              33.700000   35.000000  \n",
       "75%               22.450000              38.700000   45.000000  \n",
       "max               31.400000              57.800000   72.000000  "
      ]
     },
     "execution_count": 3,
     "metadata": {},
     "output_type": "execute_result"
    }
   ],
   "source": [
    "df.describe()"
   ]
  },
  {
   "cell_type": "code",
   "execution_count": 11,
   "id": "bc58c373-2f76-455c-b31a-98df951ca02a",
   "metadata": {
    "scrolled": true
   },
   "outputs": [
    {
     "data": {
      "text/html": [
       "<div>\n",
       "<style scoped>\n",
       "    .dataframe tbody tr th:only-of-type {\n",
       "        vertical-align: middle;\n",
       "    }\n",
       "\n",
       "    .dataframe tbody tr th {\n",
       "        vertical-align: top;\n",
       "    }\n",
       "\n",
       "    .dataframe thead th {\n",
       "        text-align: right;\n",
       "    }\n",
       "</style>\n",
       "<table border=\"1\" class=\"dataframe\">\n",
       "  <thead>\n",
       "    <tr style=\"text-align: right;\">\n",
       "      <th></th>\n",
       "      <th>RowId</th>\n",
       "      <th>YearStart</th>\n",
       "      <th>YearEnd</th>\n",
       "      <th>LocationAbbr</th>\n",
       "      <th>LocationDesc</th>\n",
       "      <th>Datasource</th>\n",
       "      <th>Class</th>\n",
       "      <th>Topic</th>\n",
       "      <th>Question</th>\n",
       "      <th>Data_Value_Unit</th>\n",
       "      <th>...</th>\n",
       "      <th>Stratification2</th>\n",
       "      <th>Geolocation</th>\n",
       "      <th>ClassID</th>\n",
       "      <th>TopicID</th>\n",
       "      <th>QuestionID</th>\n",
       "      <th>LocationID</th>\n",
       "      <th>StratificationCategoryID1</th>\n",
       "      <th>StratificationID1</th>\n",
       "      <th>StratificationCategoryID2</th>\n",
       "      <th>StratificationID2</th>\n",
       "    </tr>\n",
       "  </thead>\n",
       "  <tbody>\n",
       "    <tr>\n",
       "      <th>0</th>\n",
       "      <td>BRFSS~2022~2022~22~Q40~TGC05~AGE~GENDER</td>\n",
       "      <td>2022</td>\n",
       "      <td>2022</td>\n",
       "      <td>LA</td>\n",
       "      <td>Louisiana</td>\n",
       "      <td>BRFSS</td>\n",
       "      <td>Caregiving</td>\n",
       "      <td>Provide care for someone with cognitive impair...</td>\n",
       "      <td>Percentage of older adults who provided care f...</td>\n",
       "      <td>%</td>\n",
       "      <td>...</td>\n",
       "      <td>Female</td>\n",
       "      <td>POINT (-92.44568007 31.31266064)</td>\n",
       "      <td>C07</td>\n",
       "      <td>TGC05</td>\n",
       "      <td>Q40</td>\n",
       "      <td>22</td>\n",
       "      <td>AGE</td>\n",
       "      <td>5064</td>\n",
       "      <td>GENDER</td>\n",
       "      <td>FEMALE</td>\n",
       "    </tr>\n",
       "    <tr>\n",
       "      <th>1</th>\n",
       "      <td>BRFSS~2022~2022~13~Q40~TGC05~AGE~GENDER</td>\n",
       "      <td>2022</td>\n",
       "      <td>2022</td>\n",
       "      <td>GA</td>\n",
       "      <td>Georgia</td>\n",
       "      <td>BRFSS</td>\n",
       "      <td>Caregiving</td>\n",
       "      <td>Provide care for someone with cognitive impair...</td>\n",
       "      <td>Percentage of older adults who provided care f...</td>\n",
       "      <td>%</td>\n",
       "      <td>...</td>\n",
       "      <td>Male</td>\n",
       "      <td>POINT (-83.62758035 32.83968109)</td>\n",
       "      <td>C07</td>\n",
       "      <td>TGC05</td>\n",
       "      <td>Q40</td>\n",
       "      <td>13</td>\n",
       "      <td>AGE</td>\n",
       "      <td>5064</td>\n",
       "      <td>GENDER</td>\n",
       "      <td>MALE</td>\n",
       "    </tr>\n",
       "    <tr>\n",
       "      <th>2</th>\n",
       "      <td>BRFSS~2022~2022~41~Q40~TGC05~AGE~GENDER</td>\n",
       "      <td>2022</td>\n",
       "      <td>2022</td>\n",
       "      <td>OR</td>\n",
       "      <td>Oregon</td>\n",
       "      <td>BRFSS</td>\n",
       "      <td>Caregiving</td>\n",
       "      <td>Provide care for someone with cognitive impair...</td>\n",
       "      <td>Percentage of older adults who provided care f...</td>\n",
       "      <td>%</td>\n",
       "      <td>...</td>\n",
       "      <td>Male</td>\n",
       "      <td>POINT (-120.1550313 44.56744942)</td>\n",
       "      <td>C07</td>\n",
       "      <td>TGC05</td>\n",
       "      <td>Q40</td>\n",
       "      <td>41</td>\n",
       "      <td>AGE</td>\n",
       "      <td>AGE_OVERALL</td>\n",
       "      <td>GENDER</td>\n",
       "      <td>MALE</td>\n",
       "    </tr>\n",
       "  </tbody>\n",
       "</table>\n",
       "<p>3 rows × 31 columns</p>\n",
       "</div>"
      ],
      "text/plain": [
       "                                     RowId  YearStart  YearEnd LocationAbbr  \\\n",
       "0  BRFSS~2022~2022~22~Q40~TGC05~AGE~GENDER       2022     2022           LA   \n",
       "1  BRFSS~2022~2022~13~Q40~TGC05~AGE~GENDER       2022     2022           GA   \n",
       "2  BRFSS~2022~2022~41~Q40~TGC05~AGE~GENDER       2022     2022           OR   \n",
       "\n",
       "  LocationDesc Datasource       Class  \\\n",
       "0    Louisiana      BRFSS  Caregiving   \n",
       "1      Georgia      BRFSS  Caregiving   \n",
       "2       Oregon      BRFSS  Caregiving   \n",
       "\n",
       "                                               Topic  \\\n",
       "0  Provide care for someone with cognitive impair...   \n",
       "1  Provide care for someone with cognitive impair...   \n",
       "2  Provide care for someone with cognitive impair...   \n",
       "\n",
       "                                            Question Data_Value_Unit  ...  \\\n",
       "0  Percentage of older adults who provided care f...               %  ...   \n",
       "1  Percentage of older adults who provided care f...               %  ...   \n",
       "2  Percentage of older adults who provided care f...               %  ...   \n",
       "\n",
       "  Stratification2                       Geolocation  ClassID  TopicID  \\\n",
       "0          Female  POINT (-92.44568007 31.31266064)      C07    TGC05   \n",
       "1            Male  POINT (-83.62758035 32.83968109)      C07    TGC05   \n",
       "2            Male  POINT (-120.1550313 44.56744942)      C07    TGC05   \n",
       "\n",
       "  QuestionID LocationID  StratificationCategoryID1  StratificationID1  \\\n",
       "0        Q40         22                        AGE               5064   \n",
       "1        Q40         13                        AGE               5064   \n",
       "2        Q40         41                        AGE        AGE_OVERALL   \n",
       "\n",
       "  StratificationCategoryID2 StratificationID2  \n",
       "0                    GENDER            FEMALE  \n",
       "1                    GENDER              MALE  \n",
       "2                    GENDER              MALE  \n",
       "\n",
       "[3 rows x 31 columns]"
      ]
     },
     "execution_count": 11,
     "metadata": {},
     "output_type": "execute_result"
    }
   ],
   "source": [
    "df.head(3)"
   ]
  },
  {
   "cell_type": "code",
   "execution_count": 4,
   "id": "80b3c8b6-246d-4f9b-95dd-8b7aaf1cc4ff",
   "metadata": {},
   "outputs": [
    {
     "data": {
      "text/plain": [
       "RowId                         0\n",
       "YearStart                     0\n",
       "YearEnd                       0\n",
       "LocationAbbr                  0\n",
       "LocationDesc                  0\n",
       "Datasource                    0\n",
       "Class                         0\n",
       "Topic                         0\n",
       "Question                      0\n",
       "Data_Value_Unit               0\n",
       "DataValueTypeID               0\n",
       "Data_Value_Type               0\n",
       "Data_Value                    0\n",
       "Data_Value_Alt                0\n",
       "Data_Value_Footnote_Symbol    0\n",
       "Data_Value_Footnote           0\n",
       "Low_Confidence_Limit          0\n",
       "High_Confidence_Limit         0\n",
       "StratificationCategory1       0\n",
       "Stratification1               0\n",
       "StratificationCategory2       0\n",
       "Stratification2               0\n",
       "Geolocation                   0\n",
       "ClassID                       0\n",
       "TopicID                       0\n",
       "QuestionID                    0\n",
       "LocationID                    0\n",
       "StratificationCategoryID1     0\n",
       "StratificationID1             0\n",
       "StratificationCategoryID2     0\n",
       "StratificationID2             0\n",
       "dtype: int64"
      ]
     },
     "execution_count": 4,
     "metadata": {},
     "output_type": "execute_result"
    }
   ],
   "source": [
    "df.isnull().sum()"
   ]
  },
  {
   "cell_type": "code",
   "execution_count": null,
   "id": "039d06de-d29a-4e54-9771-8d192a1e3f4e",
   "metadata": {},
   "outputs": [],
   "source": []
  },
  {
   "cell_type": "code",
   "execution_count": 5,
   "id": "eb72d79e-0592-4f79-8b13-bd6d93a699be",
   "metadata": {},
   "outputs": [
    {
     "data": {
      "image/png": "[encoded data removed]",
      "text/plain": [
       "<Figure size 1000x600 with 1 Axes>"
      ]
     },
     "metadata": {},
     "output_type": "display_data"
    }
   ],
   "source": [
    "# Create histogram\n",
    "plt.figure(figsize=(10, 6))\n",
    "count, bins, ignored = plt.hist(df['Data_Value'], bins=15, density=True, color='skyblue', edgecolor='black', alpha=0.5)\n",
    "\n",
    "# Fit a normal distribution to the data\n",
    "mu, std = stats.norm.fit(df['Data_Value'])\n",
    "\n",
    "# Create a range of x values for the normal curve\n",
    "x = np.linspace(min(df['Data_Value']), max(df['Data_Value']), 100)\n",
    "\n",
    "# Create the normal distribution curve\n",
    "p = stats.norm.pdf(x, mu, std)\n",
    "\n",
    "# Plot the normal curve\n",
    "plt.plot(x, p, 'r-', linewidth=2, label='Normal Curve')\n",
    "plt.xlabel('Value Range')\n",
    "plt.ylabel('Density')\n",
    "plt.title('Histogram with Normal Curve Overlay')\n",
    "plt.grid(axis='y', linestyle='--', alpha=0.7)\n",
    "plt.legend()\n",
    "plt.show()"
   ]
  },
  {
   "cell_type": "code",
   "execution_count": 6,
   "id": "93cc2587-a758-4d2a-a07e-8ea16b215f4c",
   "metadata": {},
   "outputs": [
    {
     "name": "stdout",
     "output_type": "stream",
     "text": [
      "<class 'pandas.core.frame.DataFrame'>\n",
      "RangeIndex: 699 entries, 0 to 698\n",
      "Data columns (total 31 columns):\n",
      " #   Column                      Non-Null Count  Dtype  \n",
      "---  ------                      --------------  -----  \n",
      " 0   RowId                       699 non-null    object \n",
      " 1   YearStart                   699 non-null    int64  \n",
      " 2   YearEnd                     699 non-null    int64  \n",
      " 3   LocationAbbr                699 non-null    object \n",
      " 4   LocationDesc                699 non-null    object \n",
      " 5   Datasource                  699 non-null    object \n",
      " 6   Class                       699 non-null    object \n",
      " 7   Topic                       699 non-null    object \n",
      " 8   Question                    699 non-null    object \n",
      " 9   Data_Value_Unit             699 non-null    object \n",
      " 10  DataValueTypeID             699 non-null    object \n",
      " 11  Data_Value_Type             699 non-null    object \n",
      " 12  Data_Value                  699 non-null    float64\n",
      " 13  Data_Value_Alt              699 non-null    float64\n",
      " 14  Data_Value_Footnote_Symbol  699 non-null    object \n",
      " 15  Data_Value_Footnote         699 non-null    object \n",
      " 16  Low_Confidence_Limit        699 non-null    float64\n",
      " 17  High_Confidence_Limit       699 non-null    float64\n",
      " 18  StratificationCategory1     699 non-null    object \n",
      " 19  Stratification1             699 non-null    object \n",
      " 20  StratificationCategory2     699 non-null    object \n",
      " 21  Stratification2             699 non-null    object \n",
      " 22  Geolocation                 699 non-null    object \n",
      " 23  ClassID                     699 non-null    object \n",
      " 24  TopicID                     699 non-null    object \n",
      " 25  QuestionID                  699 non-null    object \n",
      " 26  LocationID                  699 non-null    int64  \n",
      " 27  StratificationCategoryID1   699 non-null    object \n",
      " 28  StratificationID1           699 non-null    object \n",
      " 29  StratificationCategoryID2   699 non-null    object \n",
      " 30  StratificationID2           699 non-null    object \n",
      "dtypes: float64(4), int64(3), object(24)\n",
      "memory usage: 169.4+ KB\n"
     ]
    }
   ],
   "source": [
    "df.info()"
   ]
  },
  {
   "cell_type": "code",
   "execution_count": 7,
   "id": "fec01077-36ed-4808-bf60-98c485942c2f",
   "metadata": {},
   "outputs": [
    {
     "name": "stdout",
     "output_type": "stream",
     "text": [
      "Statistic: 0.996320961807609, p-value: 0.1039971248580464\n"
     ]
    }
   ],
   "source": [
    "# Shapiro-Wilk Test\n",
    "stat, p_value = stats.shapiro(df['Data_Value'])\n",
    "print(f'Statistic: {stat}, p-value: {p_value}')"
   ]
  },
  {
   "cell_type": "code",
   "execution_count": 8,
   "id": "60592a5c-9e5b-41ae-8e82-7845951d1a13",
   "metadata": {},
   "outputs": [
    {
     "name": "stdout",
     "output_type": "stream",
     "text": [
      "Sample appears to be normally distributed.\n"
     ]
    }
   ],
   "source": [
    "if p_value >= 0.05:\n",
    "    print(\"Sample appears to be normally distributed.\")\n",
    "else:\n",
    "    print(\"Sample does not appear to be normally distributed.\")\n",
    "    "
   ]
  },
  {
   "cell_type": "code",
   "execution_count": null,
   "id": "dce5d5b8-e8cc-43b9-800d-b4b0bcf831d4",
   "metadata": {},
   "outputs": [],
   "source": []
  },
  {
   "cell_type": "code",
   "execution_count": 9,
   "id": "d126bb1d-c613-42c9-86e8-bffc3b6af769",
   "metadata": {},
   "outputs": [
    {
     "data": {
      "image/png": "[encoded data removed]",
      "text/plain": [
       "<Figure size 800x600 with 1 Axes>"
      ]
     },
     "metadata": {},
     "output_type": "display_data"
    }
   ],
   "source": [
    "##A Q-Q (quantile-quantile) plot is a graphical tool to assess if a dataset follows a specified distribution (usually normal).\n",
    "# Step 2: Create a Q-Q plot\n",
    "plt.figure(figsize=(8, 6))\n",
    "stats.probplot(df['Data_Value'], dist=\"norm\", plot=plt)\n",
    "\n",
    "# Step 3: Add titles and labels\n",
    "plt.title('Q-Q Plot')\n",
    "plt.xlabel('Theoretical Quantiles')\n",
    "plt.ylabel('Sample Quantiles')\n",
    "\n",
    "# Step 4: Show the plot\n",
    "plt.grid()\n",
    "plt.show()"
   ]
  },
  {
   "cell_type": "code",
   "execution_count": 14,
   "id": "97053548-d686-402d-9394-502e488dbf6a",
   "metadata": {},
   "outputs": [
    {
     "data": {
      "text/plain": [
       "np.float64(0.21225048109583367)"
      ]
     },
     "execution_count": 14,
     "metadata": {},
     "output_type": "execute_result"
    }
   ],
   "source": [
    "from scipy.stats import norm\n",
    "## what is the probability of the percentage of older adults who provided care for someone with dementia be higher than 30%\n",
    "prob = norm.cdf(30,df['Data_Value'].mean(),df['Data_Value'].std())\n",
    "1- prob"
   ]
  },
  {
   "cell_type": "code",
   "execution_count": null,
   "id": "223771e1-6dd1-44a5-a0ae-fde04fcae5ae",
   "metadata": {},
   "outputs": [],
   "source": []
  },
  {
   "cell_type": "code",
   "execution_count": null,
   "id": "f6f459ad-f75f-4dc6-8f5c-412e3351c6d0",
   "metadata": {},
   "outputs": [],
   "source": []
  }
 ],
 "metadata": {
  "kernelspec": {
   "display_name": "Python 3 (ipykernel)",
   "language": "python",
   "name": "python3"
  },
  "language_info": {
   "codemirror_mode": {
    "name": "ipython",
    "version": 3
   },
   "file_extension": ".py",
   "mimetype": "text/x-python",
   "name": "python",
   "nbconvert_exporter": "python",
   "pygments_lexer": "ipython3",
   "version": "3.12.7"
  }
 },
 "nbformat": 4,
 "nbformat_minor": 5
}
